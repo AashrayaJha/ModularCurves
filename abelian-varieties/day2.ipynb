{
 "cells": [
  {
   "cell_type": "markdown",
   "id": "337544f7",
   "metadata": {},
   "source": [
    "Magma (+CHIMP) notebook to find curves whose Jacobians are isogeny factors of the Jacobians of modular curves.\n",
    "Via the period matrix, for now only for genus 2 curves where we have RM."
   ]
  },
  {
   "cell_type": "markdown",
   "id": "c88ad5b6",
   "metadata": {},
   "source": [
    "Example 2:\n",
    "https://www.lmfdb.org/ModularForm/GL2/Q/holomorphic/23/2/a/a/\n",
    "should give\n",
    "https://www.lmfdb.org/Genus2Curve/Q/529/a/529/1\n",
    "or something isogenous"
   ]
  },
  {
   "cell_type": "code",
   "execution_count": 1,
   "id": "8df28ecb",
   "metadata": {},
   "outputs": [
    {
     "name": "stdout",
     "output_type": "stream",
     "text": [
      "Modular abelian variety JZero(23) of dimension 2 and level 23 over Q\r\n"
     ]
    }
   ],
   "source": [
    "X  := JZero(23);\n",
    "X;"
   ]
  },
  {
   "cell_type": "code",
   "execution_count": 2,
   "id": "50f5ee12",
   "metadata": {},
   "outputs": [
    {
     "name": "stdout",
     "output_type": "stream",
     "text": [
      "Full KMatrixSpace of 4 by 2 matrices over C\r\n",
      "[0.59153223605591049412844857456813206387023215502104975359443796091010267748572893 - 1.6874592734680125399313535764556124833596758476471892852623068887203284395879924*C.1 -0.59153223605591049412844857456813206387023215502104975359443796091010267748572893 - 1.6874592734680125399313535764556124833596758476471892852623068887203284395879924*C.1 -1.3543385605139576628095288989023432177531386555833329556794417959366338520677597 - 1.0837716284893304295801997816494484515107861906527159591608828822124678802648372*C.1 -1.5256126489160943373621606486684223077658130011245664041700076700530623491640616]\r\n",
      "[0.76280632445804716868108032433421115388290650056228320208500383502653117458203096 - 0.60368764497868211035115379480616403184888965699447332610142400650786055932315512*C.1 -0.76280632445804716868108032433421115388290650056228320208500383502653117458203096 - 0.60368764497868211035115379480616403184888965699447332610142400650786055932315512*C.1 -0.59153223605591049412844857456813206387023215502104975359443796091010267748572885 + 0.48008398351064831922904598684328441966189653365824263305945887570460732094168204*C.1 0.34254817680427334910526349953215818002534869108246689698113174823285699419260422] = [-1.3543385605139576628095288989023432177531386555833329556794417959366338520677597 - 1.0837716284893304295801997816494484515107861906527159591608828822124678802648372*C.1 -1.5256126489160943373621606486684223077658130011245664041700076700530623491640616 0.59153223605591049412844857456813206387023215502104975359443796091010267748572893 - 1.6874592734680125399313535764556124833596758476471892852623068887203284395879924*C.1 -0.59153223605591049412844857456813206387023215502104975359443796091010267748572893 - 1.6874592734680125399313535764556124833596758476471892852623068887203284395879924*C.1]\r\n",
      "[-0.59153223605591049412844857456813206387023215502104975359443796091010267748572885 + 0.48008398351064831922904598684328441966189653365824263305945887570460732094168204*C.1 0.34254817680427334910526349953215818002534869108246689698113174823285699419260422 0.76280632445804716868108032433421115388290650056228320208500383502653117458203096 - 0.60368764497868211035115379480616403184888965699447332610142400650786055932315512*C.1 -0.76280632445804716868108032433421115388290650056228320208500383502653117458203096 - 0.60368764497868211035115379480616403184888965699447332610142400650786055932315512*C.1]\r\n"
     ]
    }
   ],
   "source": [
    "prec := 80;\n",
    "SetDefaultRealFieldPrecision(prec);\n",
    "C:=ComplexFieldExtra(prec);\n",
    "Q:=RationalsExtra(prec);\n",
    "Pi := Matrix(Periods(X, 10000)); // no control over precision really, instead use Eran's code\n",
    "print Parent(Pi);\n",
    "Pi := Transpose(ChangeRing(Pi, C));\n",
    "g := #Rows(Pi);\n",
    "P1 := Submatrix(Pi,1,1,g,g);\n",
    "P2 := Submatrix(Pi,1,g+1,g,g);\n",
    "Pi = HorizontalJoin(P2,P1);"
   ]
  },
  {
   "cell_type": "code",
   "execution_count": 3,
   "id": "f32f54f4",
   "metadata": {},
   "outputs": [
    {
     "name": "stdout",
     "output_type": "stream",
     "text": [
      "[ 0  0  0  1]\r\n",
      "[ 0  0  1  1]\r\n",
      "[ 0 -1  0  2]\r\n",
      "[-1 -1 -2  0]\r\n"
     ]
    }
   ],
   "source": [
    "_,pol := SomePrincipalPolarization(Pi); pol;"
   ]
  },
  {
   "cell_type": "code",
   "execution_count": 4,
   "id": "411b24a7",
   "metadata": {},
   "outputs": [
    {
     "name": "stdout",
     "output_type": "stream",
     "text": [
      "[ 0  0  1  0]\r\n",
      "[ 0  0  0  1]\r\n",
      "[-1  0  0  0]\r\n",
      "[ 0 -1  0  0]\r\n",
      "\r\n",
      "[ 1  0  0  0]\r\n",
      "[-1  1  0  0]\r\n",
      "[ 0  0  0  1]\r\n",
      "[-2  0  1  0]\r\n"
     ]
    }
   ],
   "source": [
    "E, F := FrobeniusFormAlternating(Matrix(Integers(),pol)); E,F;"
   ]
  },
  {
   "cell_type": "code",
   "execution_count": 5,
   "id": "36e4ecad",
   "metadata": {},
   "outputs": [
    {
     "name": "stdout",
     "output_type": "stream",
     "text": [
      "Hyperelliptic Curve defined by y^2 = -19/4*x^6 + 65/2*x^5 - 275/4*x^4 + 143/2*x^3 - 83/2*x^2 + 13*x - 7/4 over Rational Field\r\n",
      "Mapping from: FldRat: Q to FldRat: Q\r\n",
      "true\r\n"
     ]
    }
   ],
   "source": [
    "ReconstructCurve(Pi*Transpose(ChangeRing(F, C)), Q);"
   ]
  },
  {
   "cell_type": "code",
   "execution_count": 6,
   "id": "e142efdb",
   "metadata": {},
   "outputs": [
    {
     "name": "stdout",
     "output_type": "stream",
     "text": [
      "529\r\n"
     ]
    }
   ],
   "source": [
    "H:=$1;\n",
    "Conductor(H);"
   ]
  },
  {
   "cell_type": "code",
   "execution_count": 8,
   "id": "49c09f37",
   "metadata": {},
   "outputs": [
    {
     "name": "stdout",
     "output_type": "stream",
     "text": [
      "false\r\n"
     ]
    }
   ],
   "source": [
    "R<x> := PolynomialRing(Rationals()); C := HyperellipticCurve(R![0, 0, 0, 0, 0, -1], R![1, 1, 0, 1]);\n",
    "IsIsomorphic(C, H);"
   ]
  },
  {
   "cell_type": "code",
   "execution_count": 9,
   "id": "420994e1",
   "metadata": {},
   "outputs": [
    {
     "name": "stdout",
     "output_type": "stream",
     "text": [
      "[ -1804229351/529, -39370210/529, 3145584/529 ]\r\n",
      "[ -59797108943/148035889, 777839062/6436343, -9815520/279841 ]\r\n"
     ]
    }
   ],
   "source": [
    "G2Invariants(C);\n",
    "G2Invariants(H);"
   ]
  },
  {
   "cell_type": "code",
   "execution_count": 10,
   "id": "800af313",
   "metadata": {},
   "outputs": [
    {
     "name": "stdout",
     "output_type": "stream",
     "text": [
      "true \r\n",
      "[-2  0 -1  1]\r\n",
      "[ 2 -1 -1  1]\r\n",
      "[ 2 -3 -2  1]\r\n",
      "[ 1 -1  1  0]\r\n",
      "\r\n",
      "[1.828779826051639971545253677288545535123055991716477857944201349164212217450781113080716834976275247E-99 - 1.000113967371990609438810604767173339520421245469948828563235112824178556418395921216017019127650526E-99*$.1 -1.000000000000000000000000000000000000000000000000000000000000000000000000000000000000000000000000006 - 5.998451406983345463308223426360256168061097961111054692744224884282517368518370179257673505348207507E-100*$.1]\r\n",
      "[1.000000000000000000000000000000000000000000000000000000000000000000000000000000000000000000000000003 - 4.496048058676761355825367316966712289719036581197493171264186422383695563898770949395219367239036070E-100*$.1 -2.928905190160829641927945342532436208595519361733421569363759973270808629511016626418335556016690826E-99 - 8.000911738975924875510484838137386716163369963759590628505880902593428451347167369728136153021204208E-100*$.1]\r\n"
     ]
    }
   ],
   "source": [
    "IsIsogenousPeriodMatrices(PeriodMatrix(C), PeriodMatrix(H));"
   ]
  },
  {
   "cell_type": "code",
   "execution_count": 11,
   "id": "c8977285",
   "metadata": {},
   "outputs": [
    {
     "name": "stdout",
     "output_type": "stream",
     "text": []
    }
   ],
   "source": [
    "_,B,E:=IsIsogenousPeriodMatrices(PeriodMatrix(C), PeriodMatrix(H));"
   ]
  },
  {
   "cell_type": "code",
   "execution_count": 12,
   "id": "4942b9a9",
   "metadata": {},
   "outputs": [
    {
     "name": "stdout",
     "output_type": "stream",
     "text": [
      "11\r\n"
     ]
    }
   ],
   "source": [
    "Determinant(B);"
   ]
  },
  {
   "cell_type": "code",
   "execution_count": 13,
   "id": "c85f4f93",
   "metadata": {},
   "outputs": [
    {
     "name": "stdout",
     "output_type": "stream",
     "text": [
      "false \r\n",
      "[0 0 0 0]\r\n",
      "[0 0 0 0]\r\n",
      "[0 0 0 0]\r\n",
      "[0 0 0 0]\r\n",
      "\r\n",
      "[0.0000000000000000000000000000000000000000000000000000000000000000000000000000000000000000000000000000 0.0000000000000000000000000000000000000000000000000000000000000000000000000000000000000000000000000000]\r\n",
      "[0.0000000000000000000000000000000000000000000000000000000000000000000000000000000000000000000000000000 0.0000000000000000000000000000000000000000000000000000000000000000000000000000000000000000000000000000]\r\n"
     ]
    }
   ],
   "source": [
    "IsIsomorphicBigPeriodMatrices(PeriodMatrix(C), PeriodMatrix(H));"
   ]
  },
  {
   "cell_type": "code",
   "execution_count": 14,
   "id": "3281caaf",
   "metadata": {},
   "outputs": [
    {
     "name": "stdout",
     "output_type": "stream",
     "text": [
      "[ <23, 6> ]\r\n"
     ]
    }
   ],
   "source": [
    "Factorization(Integers()!Discriminant(H));"
   ]
  },
  {
   "cell_type": "code",
   "execution_count": 15,
   "id": "e06f21a0",
   "metadata": {},
   "outputs": [
    {
     "name": "stdout",
     "output_type": "stream",
     "text": [
      "[ <23, 2> ]\r\n"
     ]
    }
   ],
   "source": [
    "Factorization(Integers()!Discriminant(C));"
   ]
  },
  {
   "cell_type": "markdown",
   "id": "bd4d8c2a",
   "metadata": {},
   "source": [
    "Button time:"
   ]
  },
  {
   "cell_type": "code",
   "execution_count": 16,
   "id": "f0ac63a4",
   "metadata": {},
   "outputs": [
    {
     "name": "stdout",
     "output_type": "stream",
     "text": []
    }
   ],
   "source": [
    "function GetCurve(N)\n",
    "    X := JZero(N);\n",
    "    print X;\n",
    "    prec := 80;\n",
    "    SetDefaultRealFieldPrecision(prec);\n",
    "    C:=ComplexFieldExtra(prec);\n",
    "    Q:=RationalsExtra(prec);\n",
    "    Pi := Matrix(Periods(X, 10000)); // no control over precision really, instead use Eran's code\n",
    "    print \"Periods computed\";\n",
    "    // Change convention\n",
    "    Pi := Transpose(ChangeRing(Pi, C));\n",
    "    g := #Rows(Pi);\n",
    "    P1 := Submatrix(Pi,1,1,g,g);\n",
    "    P2 := Submatrix(Pi,1,g+1,g,g);\n",
    "    Pi = HorizontalJoin(P2,P1);\n",
    "    _, pol := SomePrincipalPolarization(Pi); pol;\n",
    "    print \"Principal polarization found\";\n",
    "    E, F := FrobeniusFormAlternating(Matrix(Integers(), pol)); E,F;\n",
    "    H := ReconstructCurve(Pi*Transpose(ChangeRing(F, C)), Q);\n",
    "    print \"Curve found\";\n",
    "    print H;\n",
    "    return H;\n",
    "end function;"
   ]
  },
  {
   "cell_type": "code",
   "execution_count": 17,
   "id": "c8c09536",
   "metadata": {},
   "outputs": [
    {
     "name": "stdout",
     "output_type": "stream",
     "text": [
      "Modular abelian variety JZero(23) of dimension 2 and level 23 over Q\r\n",
      "Periods computed\r\n",
      "[0.59153223605591049412844857456813206387023215502104975359443796091010267748572911 - 1.6874592734680125399313535764556124833596758476471892852623068887203284395879923*I -0.59153223605591049412844857456813206387023215502104975359443796091010267748572911 - 1.6874592734680125399313535764556124833596758476471892852623068887203284395879923*I -1.3543385605139576628095288989023432177531386555833329556794417959366338520677594 - 1.0837716284893304295801997816494484515107861906527159591608828822124678802648372*I -1.5256126489160943373621606486684223077658130011245664041700076700530623491640606]\r\n",
      "[0.76280632445804716868108032433421115388290650056228320208500383502653117458203078 - 0.60368764497868211035115379480616403184888965699447332610142400650786055932315493*I -0.76280632445804716868108032433421115388290650056228320208500383502653117458203078 - 0.60368764497868211035115379480616403184888965699447332610142400650786055932315493*I -0.59153223605591049412844857456813206387023215502104975359443796091010267748572909 + 0.48008398351064831922904598684328441966189653365824263305945887570460732094168215*I 0.34254817680427334910526349953215818002534869108246689698113174823285699419260339] = [-1.3543385605139576628095288989023432177531386555833329556794417959366338520677594 - 1.0837716284893304295801997816494484515107861906527159591608828822124678802648372*I -1.5256126489160943373621606486684223077658130011245664041700076700530623491640606 0.59153223605591049412844857456813206387023215502104975359443796091010267748572911 - 1.6874592734680125399313535764556124833596758476471892852623068887203284395879923*I -0.59153223605591049412844857456813206387023215502104975359443796091010267748572911 - 1.6874592734680125399313535764556124833596758476471892852623068887203284395879923*I]\r\n",
      "[-0.59153223605591049412844857456813206387023215502104975359443796091010267748572909 + 0.48008398351064831922904598684328441966189653365824263305945887570460732094168215*I 0.34254817680427334910526349953215818002534869108246689698113174823285699419260339 0.76280632445804716868108032433421115388290650056228320208500383502653117458203078 - 0.60368764497868211035115379480616403184888965699447332610142400650786055932315493*I -0.76280632445804716868108032433421115388290650056228320208500383502653117458203078 - 0.60368764497868211035115379480616403184888965699447332610142400650786055932315493*I]\r\n",
      "[ 0  3  3  2]\r\n",
      "[-3  0  2  2]\r\n",
      "[-3 -2  0  1]\r\n",
      "[-2 -2 -1  0]\r\n",
      "Principal polarization found\r\n",
      "[ 0  0  1  0]\r\n",
      "[ 0  0  0  1]\r\n",
      "[-1  0  0  0]\r\n",
      "[ 0 -1  0  0]\r\n",
      "\r\n",
      "[ 1  0  1  0]\r\n",
      "[ 2 -3  2  1]\r\n",
      "[ 0  1  0  0]\r\n",
      "[-2  3 -3  0]\r\n",
      "Curve found\r\n",
      "Hyperelliptic Curve defined by y^2 = 1/4*x^6 - 1/2*x^5 - 23/4*x^4 - 25/2*x^3 - 29/2*x^2 - 8*x - 11/4 over Rational Field\r\n",
      "Hyperelliptic Curve defined by y^2 = 1/4*x^6 - 1/2*x^5 - 23/4*x^4 - 25/2*x^3 - 29/2*x^2 - 8*x - 11/4 over Rational Field\r\n"
     ]
    }
   ],
   "source": [
    "GetCurve(23);"
   ]
  },
  {
   "cell_type": "code",
   "execution_count": null,
   "id": "17c3ded1",
   "metadata": {},
   "outputs": [],
   "source": [
    "for N in [23,29,31,35,39,43,51,55] do\n",
    "  print N;\n",
    "  GetCurve(N);\n",
    "end for;"
   ]
  },
  {
   "cell_type": "code",
   "execution_count": null,
   "id": "955f92b1",
   "metadata": {},
   "outputs": [],
   "source": []
  }
 ],
 "metadata": {
  "kernelspec": {
   "display_name": "Magma",
   "language": "magma",
   "name": "magma"
  },
  "language_info": {
   "codemirror_mode": "magma",
   "file_extension": ".mgm",
   "mimetype": "text/x-sh",
   "name": "magma"
  },
  "varInspector": {
   "cols": {
    "lenName": 16,
    "lenType": 16,
    "lenVar": 40
   },
   "kernels_config": {
    "python": {
     "delete_cmd_postfix": "",
     "delete_cmd_prefix": "del ",
     "library": "var_list.py",
     "varRefreshCmd": "print(var_dic_list())"
    },
    "r": {
     "delete_cmd_postfix": ") ",
     "delete_cmd_prefix": "rm(",
     "library": "var_list.r",
     "varRefreshCmd": "cat(var_dic_list()) "
    }
   },
   "types_to_exclude": [
    "module",
    "function",
    "builtin_function_or_method",
    "instance",
    "_Feature"
   ],
   "window_display": false
  }
 },
 "nbformat": 4,
 "nbformat_minor": 5
}
